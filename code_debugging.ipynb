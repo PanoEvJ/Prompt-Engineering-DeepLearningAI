{
 "cells": [
  {
   "attachments": {},
   "cell_type": "markdown",
   "metadata": {},
   "source": [
    "# Summarizing\n",
    "Summarize with a focus on specific topics"
   ]
  },
  {
   "attachments": {},
   "cell_type": "markdown",
   "metadata": {},
   "source": [
    "## Setup \n",
    "Import the helper function that uses the ChatGPT endpoint."
   ]
  },
  {
   "cell_type": "code",
   "execution_count": 4,
   "metadata": {},
   "outputs": [],
   "source": [
    "from setup_openai import get_completion"
   ]
  },
  {
   "attachments": {},
   "cell_type": "markdown",
   "metadata": {},
   "source": [
    "## Debug code"
   ]
  },
  {
   "cell_type": "code",
   "execution_count": null,
   "metadata": {},
   "outputs": [],
   "source": [
    "code=\"\"\"\n",
    "import openai\n",
    "import os\n",
    "\n",
    "from dotenv import load_dotenv, find_dotenv\n",
    "\n",
    "_ = load_dotenv(find_dotenv())\n",
    "\n",
    "load_dotenv()\n",
    "\n",
    "openai.api_key = os.getenv('OPENAI_API_KEY')\n",
    " \"\"\"\n",
    "\n",
    "name_error=\"\"\"NameError: name 'openai' is not defined\"\"\"\n",
    "\n",
    "jupyter=\"\"\"\n",
    "import helper_function\n",
    "print(openai.api_key)\n",
    " \"\"\"\n",
    "\n",
    "prompt = f\"\"\" Your task is to debug code that is supposed to prompt OPENAIN API to execute a random task. \n",
    "\n",
    "The Python module given below in delimiters is imported into the Jupyter notebook with the code given below in angled brackets. /\n",
    "When attempting to run the code cell an error is returned. The error is given below in hash marks.\n",
    "\n",
    "Python module: ```{code}```\n",
    "Jupyter notebook code: <{jupyter}>\n",
    "Error: ###{name_error}###\n",
    "                    \n",
    "\"\"\"\n",
    "\n",
    "response = get_completion(prompt)\n",
    "print(response)"
   ]
  },
  {
   "cell_type": "code",
   "execution_count": null,
   "metadata": {},
   "outputs": [],
   "source": []
  }
 ],
 "metadata": {
  "kernelspec": {
   "display_name": "promptAI",
   "language": "python",
   "name": "python3"
  },
  "language_info": {
   "codemirror_mode": {
    "name": "ipython",
    "version": 3
   },
   "file_extension": ".py",
   "mimetype": "text/x-python",
   "name": "python",
   "nbconvert_exporter": "python",
   "pygments_lexer": "ipython3",
   "version": "3.11.3"
  },
  "orig_nbformat": 4
 },
 "nbformat": 4,
 "nbformat_minor": 2
}
