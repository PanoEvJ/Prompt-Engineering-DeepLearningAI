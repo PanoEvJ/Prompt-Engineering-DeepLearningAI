{
 "cells": [
  {
   "attachments": {},
   "cell_type": "markdown",
   "metadata": {},
   "source": [
    "# Summarizing\n",
    "Summarize with a focus on specific topics"
   ]
  },
  {
   "attachments": {},
   "cell_type": "markdown",
   "metadata": {},
   "source": [
    "## Setup \n",
    "Import the helper function that uses the ChatGPT endpoint."
   ]
  },
  {
   "cell_type": "code",
   "execution_count": null,
   "metadata": {},
   "outputs": [],
   "source": [
    "from setup_openai import get_completion"
   ]
  },
  {
   "attachments": {},
   "cell_type": "markdown",
   "metadata": {},
   "source": [
    "## Debug code"
   ]
  },
  {
   "attachments": {},
   "cell_type": "markdown",
   "metadata": {},
   "source": [
    "#### Case 1"
   ]
  },
  {
   "cell_type": "code",
   "execution_count": null,
   "metadata": {},
   "outputs": [],
   "source": [
    "code=\"\"\"\n",
    "import openai\n",
    "import os\n",
    "\n",
    "from dotenv import load_dotenv, find_dotenv\n",
    "\n",
    "_ = load_dotenv(find_dotenv())\n",
    "\n",
    "load_dotenv()\n",
    "\n",
    "openai.api_key = os.getenv('OPENAI_API_KEY')\n",
    " \"\"\"\n",
    "\n",
    "name_error=\"\"\"NameError: name 'openai' is not defined\"\"\"\n",
    "\n",
    "jupyter=\"\"\"\n",
    "import helper_function\n",
    "print(openai.api_key)\n",
    " \"\"\"\n",
    "\n",
    "prompt = f\"\"\" Your task is to debug code that is supposed to prompt OPENAIN API to execute a random task. \n",
    "\n",
    "The Python module given below in delimiters is imported into the Jupyter notebook with the code given below in angled brackets. /\n",
    "When attempting to run the code cell an error is returned. The error is given below in hash marks.\n",
    "\n",
    "Python module: ```{code}```\n",
    "Jupyter notebook code: <{jupyter}>\n",
    "Error: ###{name_error}###\n",
    "                    \n",
    "\"\"\"\n",
    "\n",
    "response = get_completion(prompt)\n",
    "print(response)"
   ]
  },
  {
   "attachments": {},
   "cell_type": "markdown",
   "metadata": {},
   "source": [
    "#### Case 2"
   ]
  },
  {
   "cell_type": "code",
   "execution_count": null,
   "metadata": {},
   "outputs": [],
   "source": [
    "error=\"cannot import name 'get_completion_from_messages' from 'setup_openai'\"\n",
    "\n",
    "module=\"\"\"\n",
    "import openai\n",
    "import os\n",
    "\n",
    "# Load your personal OPENAI API KEY from the .env file. \n",
    "# Don't forget to include the .env file in the .gitignore file to avoid sharing it.\n",
    "from dotenv import load_dotenv, find_dotenv\n",
    "\n",
    "_ = load_dotenv(find_dotenv())\n",
    "\n",
    "load_dotenv()\n",
    "openai.api_key = os.getenv('OPENAI_API_KEY')\n",
    "\n",
    "# Define a function that takes a prompt and returns the model's completion\n",
    "def get_completion(prompt, model=\"gpt-3.5-turbo\"):\n",
    "    messages = [{\"role\": \"user\", \"content\": prompt}]\n",
    "    response = openai.ChatCompletion.create(\n",
    "        model=model,\n",
    "        messages=messages,\n",
    "        temperature=0, # this is the degree of randomness of the model's output\n",
    "    )\n",
    "    return response.choices[0].message[\"content\"]\n",
    "\n",
    "def get_completion_from_messages(messages, model=\"gpt-3.5-turbo\", temperature=0):\n",
    "    response = openai.ChatCompletion.create(\n",
    "        model=model,\n",
    "        messages=messages,\n",
    "        temperature=temperature, # this is the degree of randomness of the model's output\n",
    "    )\n",
    "    # print(str(response.choices[0].message))\n",
    "    return response.choices[0].message[\"content\"]\n",
    "\"\"\"\n",
    "\n",
    "code_cell=\"\"\"from setup_openai import get_completion, get_completion_from_messages\"\"\"\n",
    "\n",
    "prompt=f\"\"\" \n",
    "Your task is to debug Python code.\n",
    "\n",
    "The Jupyter notebook code cell imports two functions from a module. An error message is raised when the second function is called.\n",
    "\n",
    "The Jupyter Notebook code cell, the imported module and the error message are given below, delimited with triple backticks.\n",
    "\n",
    "Jupyter Notebook: {code_cell}\n",
    "Module: {module}\n",
    "Error message: ```{error}```\n",
    "\"\"\"\n",
    "\n",
    "response = get_completion(prompt)\n",
    "print(response)"
   ]
  }
 ],
 "metadata": {
  "kernelspec": {
   "display_name": "promptAI",
   "language": "python",
   "name": "python3"
  },
  "language_info": {
   "codemirror_mode": {
    "name": "ipython",
    "version": 3
   },
   "file_extension": ".py",
   "mimetype": "text/x-python",
   "name": "python",
   "nbconvert_exporter": "python",
   "pygments_lexer": "ipython3",
   "version": "3.11.3"
  },
  "orig_nbformat": 4
 },
 "nbformat": 4,
 "nbformat_minor": 2
}
